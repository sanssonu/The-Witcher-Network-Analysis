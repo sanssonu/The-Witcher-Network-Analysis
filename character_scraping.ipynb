{
 "cells": [
  {
   "cell_type": "markdown",
   "id": "207b3840-06b9-41db-aa2a-6a44454305b8",
   "metadata": {},
   "source": [
    "# Importing Libraries"
   ]
  },
  {
   "cell_type": "markdown",
   "id": "58989c46-2a4d-4acd-8524-735419eef909",
   "metadata": {},
   "source": [
    "__[Selenium documentation](https://selenium-python.readthedocs.io/)__"
   ]
  },
  {
   "cell_type": "code",
   "execution_count": 67,
   "id": "6ee81dc5-39d6-4699-98d4-64d36fc11bd3",
   "metadata": {
    "tags": []
   },
   "outputs": [],
   "source": [
    "import pandas as pd\n",
    "import time\n",
    "\n",
    "\"\"\" This browser automation library is very good for scraping dynamic websites. \"\"\"\n",
    "from selenium import webdriver\n",
    "\n",
    "\"\"\"\n",
    "    webdriver_manager.chrome: Specifies which supported search engine we want to import, here, which is chrome.\n",
    "    \n",
    "    ChromeDriverManager: Controls the ChromeDriver and allows you to drive the browser.\n",
    "    Before this webdriver_manager package existed, people had to manually download a binary of chrome driver and save it in their laptop\n",
    "    and whatever the chrome driver changed, they would have to update this chrome driver, which is very tiresome.\n",
    "\"\"\"\n",
    "from webdriver_manager.chrome import ChromeDriverManager"
   ]
  },
  {
   "cell_type": "markdown",
   "id": "f14b2f49-db5f-49eb-bf5e-afcefcd4f8d5",
   "metadata": {},
   "source": [
    "# Create Driver"
   ]
  },
  {
   "cell_type": "code",
   "execution_count": 68,
   "id": "ed3084e3-acff-45e0-8dac-a7d2fba3f61a",
   "metadata": {},
   "outputs": [
    {
     "name": "stderr",
     "output_type": "stream",
     "text": [
      "C:\\Users\\sonakshi\\AppData\\Local\\Temp\\ipykernel_14116\\3470073950.py:2: DeprecationWarning: executable_path has been deprecated, please pass in a Service object\n",
      "  driver = webdriver.Chrome(ChromeDriverManager().install())\n"
     ]
    }
   ],
   "source": [
    "\"\"\" 'driver' is an object and it can manipulate our browser; that is how selenium works. \"\"\"\n",
    "driver = webdriver.Chrome(ChromeDriverManager().install())"
   ]
  },
  {
   "cell_type": "code",
   "execution_count": 69,
   "id": "37e8a469-4e89-4b08-beae-89fc2c77f97e",
   "metadata": {},
   "outputs": [],
   "source": [
    "\"\"\" Going to the witcher wiki website. \"\"\"\n",
    "page_url = \"https://witcher.fandom.com/wiki/Category:Characters_in_the_stories\"\n",
    "\n",
    "\"\"\" Asking the driver to direct us to this page URL.\"\"\"\n",
    "driver.get(page_url)"
   ]
  },
  {
   "cell_type": "markdown",
   "id": "6664a924-c3d2-4b53-ab68-b957e227a5c5",
   "metadata": {},
   "source": [
    "We notice that we have a pop-up to accept the site user cookies. \n",
    "When we have this pop-up, some elements on the page will be hidden.\n",
    "So we have to find a way to click on the accept button.\n",
    "\n",
    "In __[Selenium documentation](https://selenium-python.readthedocs.io/)__, when you'll go to __[4. Locating Elements](https://selenium-python.readthedocs.io/locating-elements.html)__, you'll see that there's a method that allows us to select a button that has a certain text. \n",
    "\n",
    "`driver.find_element(By.XPATH, '//button[text()=\"Some text\"]')`\n",
    "\n",
    "Since our element is div, and not a button, we'll modify the code. <br><br>\n",
    "Run the below code **only if** you see an \"ACCEPT\" button asking you to accept the user cookies."
   ]
  },
  {
   "cell_type": "code",
   "execution_count": 70,
   "id": "c4c4ae66-5a73-48c7-9624-b33f2a575289",
   "metadata": {},
   "outputs": [],
   "source": [
    "# from selenium.webdriver.common.by import By\n",
    "\n",
    "# driver.find_element(By.XPATH, '//div[text()=\"ACCCEPT\"]').click()"
   ]
  },
  {
   "cell_type": "markdown",
   "id": "5efa323e-3ea6-4dc1-a1a9-330322a4cad9",
   "metadata": {},
   "source": [
    "On this page, you can see that there are a couple of books, and each of these different books have a set of characters.\n",
    "So, for eg, if we click on _Category:Baptism of Fire characters_, we have a bunch of characters here. These are all the characters that appear in this book. <br><br>\n",
    "So our task now is to go into each of these links and extract the character list for each of these books."
   ]
  },
  {
   "cell_type": "markdown",
   "id": "8bdf8991-7ed5-4fb5-94fb-951eb50c270d",
   "metadata": {},
   "source": [
    "# Find Books"
   ]
  },
  {
   "cell_type": "markdown",
   "id": "2507b1fa-b17f-49fc-980d-90739eae5fa8",
   "metadata": {},
   "source": [
    "If we inspect our page, each of the links here have a link attribute of the _href_ and a class attribute. On __[Selenium documentation](https://selenium-python.readthedocs.io/)__, in __[4.6 Locating Elements by Class Name](https://selenium-python.readthedocs.io/locating-elements.html#locating-elements-by-class-name)__, there's the following method which let's you fing an element by class name:<br>\n",
    "`.find_element(By.CLASS_NAME, 'content')` <br>\n",
    "To find multiple elements by class name, just add an 's' to the above method:<br>\n",
    "`.find_elements(By.CLASS_NAME, 'content')`"
   ]
  },
  {
   "cell_type": "code",
   "execution_count": 71,
   "id": "e0da9627-05d1-4ecb-b1b1-a51560bd76f1",
   "metadata": {},
   "outputs": [],
   "source": [
    "book_categories = driver.find_elements(By.CLASS_NAME, 'category-page__member-link')"
   ]
  },
  {
   "cell_type": "code",
   "execution_count": 72,
   "id": "64189209-730b-4b66-8ea9-f22bb9d0a946",
   "metadata": {},
   "outputs": [
    {
     "data": {
      "text/plain": [
       "[<selenium.webdriver.remote.webelement.WebElement (session=\"d3422542d42a4cf55a54923fac2c6008\", element=\"7065e3c3-fdb0-4a24-b22f-58da75cb6e11\")>,\n",
       " <selenium.webdriver.remote.webelement.WebElement (session=\"d3422542d42a4cf55a54923fac2c6008\", element=\"05ada637-7f74-4bd6-89f0-6ea48f47052f\")>,\n",
       " <selenium.webdriver.remote.webelement.WebElement (session=\"d3422542d42a4cf55a54923fac2c6008\", element=\"919156aa-011d-4eaa-b17c-7a554010227d\")>,\n",
       " <selenium.webdriver.remote.webelement.WebElement (session=\"d3422542d42a4cf55a54923fac2c6008\", element=\"3085936b-251f-45c1-95b6-8073034fd6fd\")>,\n",
       " <selenium.webdriver.remote.webelement.WebElement (session=\"d3422542d42a4cf55a54923fac2c6008\", element=\"345052f9-0caf-4f84-85cd-3dd4f0950892\")>,\n",
       " <selenium.webdriver.remote.webelement.WebElement (session=\"d3422542d42a4cf55a54923fac2c6008\", element=\"0ce84ac5-00f7-454c-be65-d68a07873ff7\")>,\n",
       " <selenium.webdriver.remote.webelement.WebElement (session=\"d3422542d42a4cf55a54923fac2c6008\", element=\"e5b94275-3f72-4dce-a477-b2a9c4be977b\")>,\n",
       " <selenium.webdriver.remote.webelement.WebElement (session=\"d3422542d42a4cf55a54923fac2c6008\", element=\"d60181d5-f3c0-496a-8fe3-77f96fa558b7\")>,\n",
       " <selenium.webdriver.remote.webelement.WebElement (session=\"d3422542d42a4cf55a54923fac2c6008\", element=\"07064a51-87c1-40ad-9e75-05f7e040b97c\")>,\n",
       " <selenium.webdriver.remote.webelement.WebElement (session=\"d3422542d42a4cf55a54923fac2c6008\", element=\"05dc0b23-be1a-4092-9ef4-23f3e54a24a4\")>,\n",
       " <selenium.webdriver.remote.webelement.WebElement (session=\"d3422542d42a4cf55a54923fac2c6008\", element=\"7da42c3e-b8b0-433b-a6b0-5ef39862176b\")>,\n",
       " <selenium.webdriver.remote.webelement.WebElement (session=\"d3422542d42a4cf55a54923fac2c6008\", element=\"451f0b64-2905-4b5b-9c4c-158fadcef02b\")>]"
      ]
     },
     "execution_count": 72,
     "metadata": {},
     "output_type": "execute_result"
    }
   ],
   "source": [
    "book_categories"
   ]
  },
  {
   "cell_type": "code",
   "execution_count": 73,
   "id": "14ee3bef-0e4f-4647-adf8-b007fe7ac10b",
   "metadata": {},
   "outputs": [
    {
     "data": {
      "text/plain": [
       "'Category:Baptism of Fire characters'"
      ]
     },
     "execution_count": 73,
     "metadata": {},
     "output_type": "execute_result"
    }
   ],
   "source": [
    "\"\"\" Seeing the text of 1st book category. \"\"\"\n",
    "book_categories[0].text"
   ]
  },
  {
   "cell_type": "markdown",
   "id": "25e3c81d-3125-45a3-ae56-a8a93a33c349",
   "metadata": {},
   "source": [
    "This is exactly the first book category on the webpage."
   ]
  },
  {
   "cell_type": "code",
   "execution_count": 74,
   "id": "bec03c75-afc0-429f-b9a0-f9d3f24a0dc1",
   "metadata": {},
   "outputs": [
    {
     "data": {
      "text/plain": [
       "'https://witcher.fandom.com/wiki/Category:Baptism_of_Fire_characters'"
      ]
     },
     "execution_count": 74,
     "metadata": {},
     "output_type": "execute_result"
    }
   ],
   "source": [
    "\"\"\" Getting the link of the 1st book category. \"\"\"\n",
    "book_categories[0].get_attribute('href')"
   ]
  },
  {
   "cell_type": "code",
   "execution_count": 75,
   "id": "b14a2fd1-daa8-42c2-bafd-53a2d5fb79db",
   "metadata": {},
   "outputs": [],
   "source": [
    "\"\"\" Now if we ask our driver to go into this URL, there's a list of all the characters here.\"\"\"\n",
    "driver.get(book_categories[0].get_attribute('href'))"
   ]
  },
  {
   "cell_type": "markdown",
   "id": "5ac1a237-800c-44ac-bd1e-b907be973815",
   "metadata": {},
   "source": [
    "We will now inspect all the name elements and see how we can extract these elements from the webpage. We see that there's a class name here (same as above).<br> In a very similar manner as above, we are going to extract the character names."
   ]
  },
  {
   "cell_type": "code",
   "execution_count": 76,
   "id": "25fb8a24-1d24-4e54-91a8-ebae92392595",
   "metadata": {},
   "outputs": [],
   "source": [
    "character_elems = driver.find_elements(By.CLASS_NAME, 'category-page__member-link')"
   ]
  },
  {
   "cell_type": "code",
   "execution_count": 77,
   "id": "f5c086dc-28a2-4b1c-9c68-6994c9d8b6d8",
   "metadata": {},
   "outputs": [
    {
     "data": {
      "text/plain": [
       "'Adalia'"
      ]
     },
     "execution_count": 77,
     "metadata": {},
     "output_type": "execute_result"
    }
   ],
   "source": [
    "\"\"\" 1st character's name. \"\"\"\n",
    "character_elems[0].text"
   ]
  },
  {
   "cell_type": "markdown",
   "id": "9715d83b-78d9-4543-993f-f73e29780c12",
   "metadata": {},
   "source": [
    "# Extracting All The Characters From All The Books"
   ]
  },
  {
   "cell_type": "code",
   "execution_count": 78,
   "id": "9a850911-613d-4ecb-b81f-1686a1827cb5",
   "metadata": {},
   "outputs": [
    {
     "name": "stderr",
     "output_type": "stream",
     "text": [
      "C:\\Users\\sonakshi\\AppData\\Local\\Temp\\ipykernel_14116\\1351894353.py:2: DeprecationWarning: executable_path has been deprecated, please pass in a Service object\n",
      "  driver = webdriver.Chrome(ChromeDriverManager().install())\n"
     ]
    }
   ],
   "source": [
    "\"\"\" Create driver. \"\"\"\n",
    "driver = webdriver.Chrome(ChromeDriverManager().install())\n",
    "\n",
    "\"\"\" Go to the characters in books page. \"\"\"\n",
    "page_url = \"https://witcher.fandom.com/wiki/Category:Characters_in_the_stories\"\n",
    "driver.get(page_url)\n",
    "\n",
    "\"\"\" Click on Accept cookies. \"\"\"\n",
    "time.sleep(3) # Wait for 3 seconds to let the page load fully.\n",
    "# driver.find_element(By.XPATH, '//div[text()=\"ACCCEPT\"]').click()\n",
    "\n",
    "\"\"\" Find books. \"\"\"\n",
    "book_categories = driver.find_elements(By.CLASS_NAME, 'category-page__member-link')\n",
    "\n",
    "\"\"\" Creating a list of dictionaries of all the book names and their URLs. \"\"\"\n",
    "books = []\n",
    "for category in book_categories:\n",
    "    book_url = category.get_attribute('href')\n",
    "    book_name = category.text\n",
    "    books.append({'book_name': book_name, 'url': book_url})"
   ]
  },
  {
   "cell_type": "code",
   "execution_count": 79,
   "id": "cd54084a-6175-4129-903d-923a984d4aa9",
   "metadata": {},
   "outputs": [
    {
     "data": {
      "text/plain": [
       "[{'book_name': 'Category:Baptism of Fire characters',\n",
       "  'url': 'https://witcher.fandom.com/wiki/Category:Baptism_of_Fire_characters'},\n",
       " {'book_name': 'Category:Blood of Elves characters',\n",
       "  'url': 'https://witcher.fandom.com/wiki/Category:Blood_of_Elves_characters'},\n",
       " {'book_name': \"Godamba Thaess'en\",\n",
       "  'url': 'https://witcher.fandom.com/wiki/Godamba_Thaess%27en'},\n",
       " {'book_name': 'Category:Season of Storms characters',\n",
       "  'url': 'https://witcher.fandom.com/wiki/Category:Season_of_Storms_characters'},\n",
       " {'book_name': 'Category:Something Ends, Something Begins characters',\n",
       "  'url': 'https://witcher.fandom.com/wiki/Category:Something_Ends,_Something_Begins_characters'},\n",
       " {'book_name': 'Category:Sword of Destiny characters',\n",
       "  'url': 'https://witcher.fandom.com/wiki/Category:Sword_of_Destiny_characters'},\n",
       " {'book_name': 'Category:Szpony i kły characters',\n",
       "  'url': 'https://witcher.fandom.com/wiki/Category:Szpony_i_k%C5%82y_characters'},\n",
       " {'book_name': 'Category:Tales from the world of The Witcher characters',\n",
       "  'url': 'https://witcher.fandom.com/wiki/Category:Tales_from_the_world_of_The_Witcher_characters'},\n",
       " {'book_name': 'Category:The Lady of the Lake characters',\n",
       "  'url': 'https://witcher.fandom.com/wiki/Category:The_Lady_of_the_Lake_characters'},\n",
       " {'book_name': 'Category:The Last Wish characters',\n",
       "  'url': 'https://witcher.fandom.com/wiki/Category:The_Last_Wish_characters'},\n",
       " {'book_name': 'Category:The Tower of the Swallow characters',\n",
       "  'url': 'https://witcher.fandom.com/wiki/Category:The_Tower_of_the_Swallow_characters'},\n",
       " {'book_name': 'Category:Time of Contempt characters',\n",
       "  'url': 'https://witcher.fandom.com/wiki/Category:Time_of_Contempt_characters'}]"
      ]
     },
     "execution_count": 79,
     "metadata": {},
     "output_type": "execute_result"
    }
   ],
   "source": [
    "books"
   ]
  },
  {
   "cell_type": "code",
   "execution_count": null,
   "id": "a8bba7fa-28dc-4cee-b351-838c5da66d1e",
   "metadata": {},
   "outputs": [],
   "source": [
    "character_list = []\n",
    "\n",
    "for book in books:\n",
    "    \"\"\" Go into the book page. \"\"\"\n",
    "    driver.get(book['url'])\n",
    "    \n",
    "    \"\"\" Extracting the character name elements. \"\"\"\n",
    "    character_elems = driver.find_elements(By.CLASS_NAME, 'category-page__member-link')\n",
    "    for  elem in character_elems:\n",
    "        character_list.append({'book': book['book_name'], 'character': elem.text})"
   ]
  },
  {
   "cell_type": "code",
   "execution_count": null,
   "id": "a780a0a2-2930-4b71-b399-37373a39cd6d",
   "metadata": {},
   "outputs": [],
   "source": [
    "\"\"\" Creating a Pandas DataFrame. \"\"\"\n",
    "character_df = pd.DataFrame(character_list)\n",
    "character_df"
   ]
  },
  {
   "cell_type": "markdown",
   "id": "cc58a430-119a-46fc-9320-dbf7aa702aba",
   "metadata": {},
   "source": [
    "# Which book has the highest number of characters?"
   ]
  },
  {
   "cell_type": "code",
   "execution_count": null,
   "id": "daf2a7f6-ac8a-45c7-8bca-291275cb2280",
   "metadata": {},
   "outputs": [],
   "source": [
    "\"\"\" Installing matplotlib \"\"\"\n",
    "!pip3 install matplotlib"
   ]
  },
  {
   "cell_type": "code",
   "execution_count": null,
   "id": "dbadb8b6-aba9-4b9b-a445-f53c70185c45",
   "metadata": {},
   "outputs": [],
   "source": [
    "\"\"\" Checking the total number of values (value_counts) of all the books. \"\"\"\n",
    "import matplotlib.pyplot as plt\n",
    "character_df['book'].value_counts().plot(kind=\"bar\")\n",
    "plt.show()"
   ]
  },
  {
   "cell_type": "markdown",
   "id": "799eacb1-29e1-498b-89c5-05a904186490",
   "metadata": {},
   "source": [
    "The Lady of the Lake and Time of Contempt has the highest number of characters in all of the books! "
   ]
  }
 ],
 "metadata": {
  "kernelspec": {
   "display_name": "Python 3 (ipykernel)",
   "language": "python",
   "name": "python3"
  },
  "language_info": {
   "codemirror_mode": {
    "name": "ipython",
    "version": 3
   },
   "file_extension": ".py",
   "mimetype": "text/x-python",
   "name": "python",
   "nbconvert_exporter": "python",
   "pygments_lexer": "ipython3",
   "version": "3.10.2"
  }
 },
 "nbformat": 4,
 "nbformat_minor": 5
}
